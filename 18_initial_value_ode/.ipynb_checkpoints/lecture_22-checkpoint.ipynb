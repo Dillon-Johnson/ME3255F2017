{
 "cells": [
  {
   "cell_type": "code",
   "execution_count": 1,
   "metadata": {
    "collapsed": true
   },
   "outputs": [],
   "source": [
    "%plot --format svg"
   ]
  },
  {
   "cell_type": "code",
   "execution_count": 2,
   "metadata": {
    "collapsed": true
   },
   "outputs": [],
   "source": [
    "setdefaults"
   ]
  },
  {
   "cell_type": "markdown",
   "metadata": {},
   "source": [
    "![q1](q1.png)\n",
    "\n",
    "![q2](q2.png)\n",
    "\n",
    "\n",
    "\n",
    "\n"
   ]
  },
  {
   "cell_type": "markdown",
   "metadata": {},
   "source": [
    "# Initial Value Problem\n",
    "\n",
    "## Euler's method\n",
    "\n",
    "$\\frac{dy}{dt}=f(t,y)$\n",
    "\n",
    "$y_{i+1}=y_{i}+f(t_{i},y_{i})h$\n",
    "\n",
    "The error of this method is:\n",
    "\n",
    "$E_{t}=\\frac{f'(t_i , y_i )}{2!}h^2 + \\cdots + O(h^{n+1})$\n",
    "\n",
    "or\n",
    "\n",
    "$E_{a}=O(h^2)$\n",
    "\n",
    "### Example: Freefalling problem\n",
    "\n",
    "An object is falling and has a drag coefficient of 0.25 kg/m and  mass of 60 kg\n",
    "Define time from 0 to 12 seconds with `N` timesteps \n",
    "function defined as `freefall`\n",
    "\n",
    "Using the Euler ODE solution results in a conditionally stable solution *(at some point the time steps are too large to solve the problem)*"
   ]
  },
  {
   "cell_type": "code",
   "execution_count": 6,
   "metadata": {
    "collapsed": false
   },
   "outputs": [],
   "source": [
    "function [v_analytical,v_terminal,t]=freefall(N,tmax)\n",
    "    t=linspace(0,tmax,N)';\n",
    "    c=0.25; m=60; g=9.81; v_terminal=sqrt(m*g/c);\n",
    "\n",
    "    v_analytical = v_terminal*tanh(g*t/v_terminal);\n",
    "    v_numerical=zeros(length(t),1);\n",
    "    delta_time =diff(t);\n",
    "    for i=1:length(t)-1\n",
    "        v_numerical(i+1)=v_numerical(i)+(g-c/m*v_numerical(i)^2)*delta_time(i);\n",
    "    end\n",
    "    % Print values near 0,2,4,6,8,10,12 seconds\n",
    "    indices = round(linspace(1,length(t),7));\n",
    "    fprintf('time (s)|  error (m/s)\\n')\n",
    "    fprintf('-------------------------\\n')\n",
    "    M=[t(indices),abs(v_analytical(indices)-v_numerical(indices))];\n",
    "    fprintf('%7.1f | %10.2f\\n',M(:,1:2)');\n",
    "    plot(t,v_analytical,'-',t,v_numerical,'o-')\n",
    "end"
   ]
  },
  {
   "cell_type": "code",
   "execution_count": 8,
   "metadata": {
    "collapsed": false
   },
   "outputs": [
    {
     "name": "stdout",
     "output_type": "stream",
     "text": [
      "time (s)|  error (m/s)\n",
      "-------------------------\n",
      "    0.0 |       0.00\n",
      "    7.1 |      26.67\n",
      "   14.3 |      54.21\n",
      "   28.6 |      33.62\n",
      "   35.7 |      29.84\n",
      "   42.9 |      82.85\n",
      "   50.0 |      47.86\n",
      "\n",
      "O(h^2)=51.02\n"
     ]
    },
    {
     "data": {
      "image/svg+xml": [
       "<svg height=\"420px\" viewBox=\"0 0 560 420\" width=\"560px\" xmlns=\"http://www.w3.org/2000/svg\" xmlns:xlink=\"http://www.w3.org/1999/xlink\">\n",
       "\n",
       "<title>Gnuplot</title>\n",
       "<desc>Produced by GNUPLOT 5.0 patchlevel 3 </desc>\n",
       "\n",
       "<g id=\"gnuplot_canvas\">\n",
       "\n",
       "<rect fill=\"none\" height=\"420\" width=\"560\" x=\"0\" y=\"0\"/>\n",
       "<defs>\n",
       "\n",
       "\t<circle id=\"gpDot\" r=\"0.5\" stroke-width=\"0.5\"/>\n",
       "\t<path d=\"M-1,0 h2 M0,-1 v2\" id=\"gpPt0\" stroke=\"currentColor\" stroke-width=\"0.222\"/>\n",
       "\t<path d=\"M-1,-1 L1,1 M1,-1 L-1,1\" id=\"gpPt1\" stroke=\"currentColor\" stroke-width=\"0.222\"/>\n",
       "\t<path d=\"M-1,0 L1,0 M0,-1 L0,1 M-1,-1 L1,1 M-1,1 L1,-1\" id=\"gpPt2\" stroke=\"currentColor\" stroke-width=\"0.222\"/>\n",
       "\t<rect height=\"2\" id=\"gpPt3\" stroke=\"currentColor\" stroke-width=\"0.222\" width=\"2\" x=\"-1\" y=\"-1\"/>\n",
       "\t<rect fill=\"currentColor\" height=\"2\" id=\"gpPt4\" stroke=\"currentColor\" stroke-width=\"0.222\" width=\"2\" x=\"-1\" y=\"-1\"/>\n",
       "\t<circle cx=\"0\" cy=\"0\" id=\"gpPt5\" r=\"1\" stroke=\"currentColor\" stroke-width=\"0.222\"/>\n",
       "\t<use fill=\"currentColor\" id=\"gpPt6\" stroke=\"none\" xlink:href=\"#gpPt5\"/>\n",
       "\t<path d=\"M0,-1.33 L-1.33,0.67 L1.33,0.67 z\" id=\"gpPt7\" stroke=\"currentColor\" stroke-width=\"0.222\"/>\n",
       "\t<use fill=\"currentColor\" id=\"gpPt8\" stroke=\"none\" xlink:href=\"#gpPt7\"/>\n",
       "\t<use id=\"gpPt9\" stroke=\"currentColor\" transform=\"rotate(180)\" xlink:href=\"#gpPt7\"/>\n",
       "\t<use fill=\"currentColor\" id=\"gpPt10\" stroke=\"none\" xlink:href=\"#gpPt9\"/>\n",
       "\t<use id=\"gpPt11\" stroke=\"currentColor\" transform=\"rotate(45)\" xlink:href=\"#gpPt3\"/>\n",
       "\t<use fill=\"currentColor\" id=\"gpPt12\" stroke=\"none\" xlink:href=\"#gpPt11\"/>\n",
       "\t<path d=\"M0,1.330 L1.265,0.411 L0.782,-1.067 L-0.782,-1.076 L-1.265,0.411 z\" id=\"gpPt13\" stroke=\"currentColor\" stroke-width=\"0.222\"/>\n",
       "\t<use fill=\"currentColor\" id=\"gpPt14\" stroke=\"none\" xlink:href=\"#gpPt13\"/>\n",
       "\t<filter filterUnits=\"objectBoundingBox\" height=\"1\" id=\"textbox\" width=\"1\" x=\"0\" y=\"0\">\n",
       "\t  <feFlood flood-color=\"white\" flood-opacity=\"1\" result=\"bgnd\"/>\n",
       "\t  <feComposite in=\"SourceGraphic\" in2=\"bgnd\" operator=\"atop\"/>\n",
       "\t</filter>\n",
       "\t<filter filterUnits=\"objectBoundingBox\" height=\"1\" id=\"greybox\" width=\"1\" x=\"0\" y=\"0\">\n",
       "\t  <feFlood flood-color=\"lightgrey\" flood-opacity=\"1\" result=\"grey\"/>\n",
       "\t  <feComposite in=\"SourceGraphic\" in2=\"grey\" operator=\"atop\"/>\n",
       "\t</filter>\n",
       "</defs>\n",
       "<g color=\"white\" fill=\"none\" stroke=\"currentColor\" stroke-linecap=\"butt\" stroke-linejoin=\"miter\" stroke-width=\"1.00\">\n",
       "</g>\n",
       "<g color=\"black\" fill=\"none\" stroke=\"currentColor\" stroke-linecap=\"butt\" stroke-linejoin=\"miter\" stroke-width=\"1.00\">\n",
       "\t<g shape-rendering=\"crispEdges\" stroke=\"none\">\n",
       "\t\t<polygon fill=\"rgb(255, 255, 255)\" points=\"45.6,384.0 534.9,384.0 534.9,16.8 45.6,16.8 \"/>\n",
       "\t</g>\n",
       "</g>\n",
       "<g color=\"black\" fill=\"none\" stroke=\"rgb(255, 255, 255)\" stroke-linecap=\"butt\" stroke-linejoin=\"miter\" stroke-width=\"0.50\">\n",
       "</g>\n",
       "<g color=\"black\" fill=\"none\" stroke=\"currentColor\" stroke-linecap=\"butt\" stroke-linejoin=\"miter\" stroke-width=\"0.50\">\n",
       "\t<path d=\"M45.6,384.0 L58.1,384.0 M535.0,384.0 L522.5,384.0  \" stroke=\"black\"/>\t<g fill=\"rgb(0,0,0)\" font-family=\"{}\" font-size=\"16.00\" stroke=\"none\" text-anchor=\"end\" transform=\"translate(37.3,390.0)\">\n",
       "\t\t<text><tspan font-family=\"{}\">-40</tspan></text>\n",
       "\t</g>\n",
       "</g>\n",
       "<g color=\"black\" fill=\"none\" stroke=\"currentColor\" stroke-linecap=\"butt\" stroke-linejoin=\"miter\" stroke-width=\"0.50\">\n",
       "\t<path d=\"M45.6,322.8 L58.1,322.8 M535.0,322.8 L522.5,322.8  \" stroke=\"black\"/>\t<g fill=\"rgb(0,0,0)\" font-family=\"{}\" font-size=\"16.00\" stroke=\"none\" text-anchor=\"end\" transform=\"translate(37.3,328.8)\">\n",
       "\t\t<text><tspan font-family=\"{}\">-20</tspan></text>\n",
       "\t</g>\n",
       "</g>\n",
       "<g color=\"black\" fill=\"none\" stroke=\"currentColor\" stroke-linecap=\"butt\" stroke-linejoin=\"miter\" stroke-width=\"0.50\">\n",
       "\t<path d=\"M45.6,261.6 L58.1,261.6 M535.0,261.6 L522.5,261.6  \" stroke=\"black\"/>\t<g fill=\"rgb(0,0,0)\" font-family=\"{}\" font-size=\"16.00\" stroke=\"none\" text-anchor=\"end\" transform=\"translate(37.3,267.6)\">\n",
       "\t\t<text><tspan font-family=\"{}\">0</tspan></text>\n",
       "\t</g>\n",
       "</g>\n",
       "<g color=\"black\" fill=\"none\" stroke=\"currentColor\" stroke-linecap=\"butt\" stroke-linejoin=\"miter\" stroke-width=\"0.50\">\n",
       "\t<path d=\"M45.6,200.3 L58.1,200.3 M535.0,200.3 L522.5,200.3  \" stroke=\"black\"/>\t<g fill=\"rgb(0,0,0)\" font-family=\"{}\" font-size=\"16.00\" stroke=\"none\" text-anchor=\"end\" transform=\"translate(37.3,206.3)\">\n",
       "\t\t<text><tspan font-family=\"{}\">20</tspan></text>\n",
       "\t</g>\n",
       "</g>\n",
       "<g color=\"black\" fill=\"none\" stroke=\"currentColor\" stroke-linecap=\"butt\" stroke-linejoin=\"miter\" stroke-width=\"0.50\">\n",
       "\t<path d=\"M45.6,139.1 L58.1,139.1 M535.0,139.1 L522.5,139.1  \" stroke=\"black\"/>\t<g fill=\"rgb(0,0,0)\" font-family=\"{}\" font-size=\"16.00\" stroke=\"none\" text-anchor=\"end\" transform=\"translate(37.3,145.1)\">\n",
       "\t\t<text><tspan font-family=\"{}\">40</tspan></text>\n",
       "\t</g>\n",
       "</g>\n",
       "<g color=\"black\" fill=\"none\" stroke=\"currentColor\" stroke-linecap=\"butt\" stroke-linejoin=\"miter\" stroke-width=\"0.50\">\n",
       "\t<path d=\"M45.6,77.9 L58.1,77.9 M535.0,77.9 L522.5,77.9  \" stroke=\"black\"/>\t<g fill=\"rgb(0,0,0)\" font-family=\"{}\" font-size=\"16.00\" stroke=\"none\" text-anchor=\"end\" transform=\"translate(37.3,83.9)\">\n",
       "\t\t<text><tspan font-family=\"{}\">60</tspan></text>\n",
       "\t</g>\n",
       "</g>\n",
       "<g color=\"black\" fill=\"none\" stroke=\"currentColor\" stroke-linecap=\"butt\" stroke-linejoin=\"miter\" stroke-width=\"0.50\">\n",
       "\t<path d=\"M45.6,16.7 L58.1,16.7 M535.0,16.7 L522.5,16.7  \" stroke=\"black\"/>\t<g fill=\"rgb(0,0,0)\" font-family=\"{}\" font-size=\"16.00\" stroke=\"none\" text-anchor=\"end\" transform=\"translate(37.3,22.7)\">\n",
       "\t\t<text><tspan font-family=\"{}\">80</tspan></text>\n",
       "\t</g>\n",
       "</g>\n",
       "<g color=\"black\" fill=\"none\" stroke=\"currentColor\" stroke-linecap=\"butt\" stroke-linejoin=\"miter\" stroke-width=\"0.50\">\n",
       "\t<path d=\"M45.6,384.0 L45.6,371.5 M45.6,16.7 L45.6,29.2  \" stroke=\"black\"/>\t<g fill=\"rgb(0,0,0)\" font-family=\"{}\" font-size=\"16.00\" stroke=\"none\" text-anchor=\"middle\" transform=\"translate(45.6,408.0)\">\n",
       "\t\t<text><tspan font-family=\"{}\">0</tspan></text>\n",
       "\t</g>\n",
       "</g>\n",
       "<g color=\"black\" fill=\"none\" stroke=\"currentColor\" stroke-linecap=\"butt\" stroke-linejoin=\"miter\" stroke-width=\"0.50\">\n",
       "\t<path d=\"M143.5,384.0 L143.5,371.5 M143.5,16.7 L143.5,29.2  \" stroke=\"black\"/>\t<g fill=\"rgb(0,0,0)\" font-family=\"{}\" font-size=\"16.00\" stroke=\"none\" text-anchor=\"middle\" transform=\"translate(143.5,408.0)\">\n",
       "\t\t<text><tspan font-family=\"{}\">10</tspan></text>\n",
       "\t</g>\n",
       "</g>\n",
       "<g color=\"black\" fill=\"none\" stroke=\"currentColor\" stroke-linecap=\"butt\" stroke-linejoin=\"miter\" stroke-width=\"0.50\">\n",
       "\t<path d=\"M241.4,384.0 L241.4,371.5 M241.4,16.7 L241.4,29.2  \" stroke=\"black\"/>\t<g fill=\"rgb(0,0,0)\" font-family=\"{}\" font-size=\"16.00\" stroke=\"none\" text-anchor=\"middle\" transform=\"translate(241.4,408.0)\">\n",
       "\t\t<text><tspan font-family=\"{}\">20</tspan></text>\n",
       "\t</g>\n",
       "</g>\n",
       "<g color=\"black\" fill=\"none\" stroke=\"currentColor\" stroke-linecap=\"butt\" stroke-linejoin=\"miter\" stroke-width=\"0.50\">\n",
       "\t<path d=\"M339.2,384.0 L339.2,371.5 M339.2,16.7 L339.2,29.2  \" stroke=\"black\"/>\t<g fill=\"rgb(0,0,0)\" font-family=\"{}\" font-size=\"16.00\" stroke=\"none\" text-anchor=\"middle\" transform=\"translate(339.2,408.0)\">\n",
       "\t\t<text><tspan font-family=\"{}\">30</tspan></text>\n",
       "\t</g>\n",
       "</g>\n",
       "<g color=\"black\" fill=\"none\" stroke=\"currentColor\" stroke-linecap=\"butt\" stroke-linejoin=\"miter\" stroke-width=\"0.50\">\n",
       "\t<path d=\"M437.1,384.0 L437.1,371.5 M437.1,16.7 L437.1,29.2  \" stroke=\"black\"/>\t<g fill=\"rgb(0,0,0)\" font-family=\"{}\" font-size=\"16.00\" stroke=\"none\" text-anchor=\"middle\" transform=\"translate(437.1,408.0)\">\n",
       "\t\t<text><tspan font-family=\"{}\">40</tspan></text>\n",
       "\t</g>\n",
       "</g>\n",
       "<g color=\"black\" fill=\"none\" stroke=\"currentColor\" stroke-linecap=\"butt\" stroke-linejoin=\"miter\" stroke-width=\"0.50\">\n",
       "\t<path d=\"M535.0,384.0 L535.0,371.5 M535.0,16.7 L535.0,29.2  \" stroke=\"black\"/>\t<g fill=\"rgb(0,0,0)\" font-family=\"{}\" font-size=\"16.00\" stroke=\"none\" text-anchor=\"middle\" transform=\"translate(535.0,408.0)\">\n",
       "\t\t<text><tspan font-family=\"{}\">50</tspan></text>\n",
       "\t</g>\n",
       "</g>\n",
       "<g color=\"black\" fill=\"none\" stroke=\"currentColor\" stroke-linecap=\"butt\" stroke-linejoin=\"miter\" stroke-width=\"0.50\">\n",
       "</g>\n",
       "<g color=\"black\" fill=\"none\" stroke=\"currentColor\" stroke-linecap=\"butt\" stroke-linejoin=\"miter\" stroke-width=\"0.50\">\n",
       "\t<path d=\"M45.6,16.7 L45.6,384.0 L535.0,384.0 L535.0,16.7 L45.6,16.7 Z  \" stroke=\"black\"/></g>\n",
       "<g color=\"black\" fill=\"none\" stroke=\"currentColor\" stroke-linecap=\"butt\" stroke-linejoin=\"miter\" stroke-width=\"0.50\">\n",
       "</g>\n",
       "\t<g id=\"gnuplot_plot_1a\"><title>gnuplot_plot_1a</title>\n",
       "<g color=\"white\" fill=\"none\" stroke=\"black\" stroke-linecap=\"butt\" stroke-linejoin=\"miter\" stroke-width=\"3.00\">\n",
       "</g>\n",
       "<g color=\"black\" fill=\"none\" stroke=\"currentColor\" stroke-linecap=\"butt\" stroke-linejoin=\"miter\" stroke-width=\"3.00\">\n",
       "\t<path d=\"M45.6,261.6 L115.5,128.7 L185.4,114.0 L255.3,113.1 L325.3,113.1 L395.2,113.0 L465.1,113.0 L535.0,113.0    \" stroke=\"rgb(  0,   0, 255)\"/></g>\n",
       "\t</g>\n",
       "\t<g id=\"gnuplot_plot_2a\"><title>gnuplot_plot_2a</title>\n",
       "<g color=\"black\" fill=\"none\" stroke=\"currentColor\" stroke-linecap=\"butt\" stroke-linejoin=\"miter\" stroke-width=\"3.00\">\n",
       "\t<path d=\"M45.6,261.6 L115.5,47.1 L185.4,279.9 L255.3,68.7 L325.3,216.0 L395.2,21.7 L465.1,366.6 L535.0,259.5    \" stroke=\"rgb(  0, 128,   0)\"/>\t<g onmousemove=\"gnuplot_svg.showHypertext(evt,'')\" onmouseout=\"gnuplot_svg.hideHypertext()\"><title> </title>\n",
       "\t<use color=\"rgb(  0, 128,   0)\" transform=\"translate(45.6,261.6) scale(12.00)\" xlink:href=\"#gpPt5\"/></g>\n",
       "\t<use color=\"rgb(  0, 128,   0)\" transform=\"translate(115.5,47.1) scale(12.00)\" xlink:href=\"#gpPt5\"/>\n",
       "\t<use color=\"rgb(  0, 128,   0)\" transform=\"translate(185.4,279.9) scale(12.00)\" xlink:href=\"#gpPt5\"/>\n",
       "\t<use color=\"rgb(  0, 128,   0)\" transform=\"translate(255.3,68.7) scale(12.00)\" xlink:href=\"#gpPt5\"/>\n",
       "\t<use color=\"rgb(  0, 128,   0)\" transform=\"translate(325.3,216.0) scale(12.00)\" xlink:href=\"#gpPt5\"/>\n",
       "\t<use color=\"rgb(  0, 128,   0)\" transform=\"translate(395.2,21.7) scale(12.00)\" xlink:href=\"#gpPt5\"/>\n",
       "\t<use color=\"rgb(  0, 128,   0)\" transform=\"translate(465.1,366.6) scale(12.00)\" xlink:href=\"#gpPt5\"/>\n",
       "\t<use color=\"rgb(  0, 128,   0)\" transform=\"translate(535.0,259.5) scale(12.00)\" xlink:href=\"#gpPt5\"/>\n",
       "</g>\n",
       "\t</g>\n",
       "<g color=\"white\" fill=\"none\" stroke=\"rgb(  0, 128,   0)\" stroke-linecap=\"butt\" stroke-linejoin=\"miter\" stroke-width=\"2.00\">\n",
       "</g>\n",
       "<g color=\"black\" fill=\"none\" stroke=\"currentColor\" stroke-linecap=\"butt\" stroke-linejoin=\"miter\" stroke-width=\"2.00\">\n",
       "</g>\n",
       "<g color=\"black\" fill=\"none\" stroke=\"black\" stroke-linecap=\"butt\" stroke-linejoin=\"miter\" stroke-width=\"0.50\">\n",
       "</g>\n",
       "<g color=\"black\" fill=\"none\" stroke=\"currentColor\" stroke-linecap=\"butt\" stroke-linejoin=\"miter\" stroke-width=\"0.50\">\n",
       "</g>\n",
       "</g>\n",
       "</svg>"
      ],
      "text/plain": [
       "<IPython.core.display.SVG object>"
      ]
     },
     "metadata": {},
     "output_type": "display_data"
    }
   ],
   "source": [
    "[v_an,v_t,t]=freefall(8,50);\n",
    "fprintf('\\nO(h^2)=%1.2f',min(diff(t).^2))"
   ]
  },
  {
   "cell_type": "markdown",
   "metadata": {},
   "source": [
    "## Heun Method\n",
    "\n",
    "Increase accuracy with *predictor-corrector approach*\n",
    "\n",
    "$y_{i+1}=y_{i}^{m}+f(t_{i},y_{i})h$\n",
    "\n",
    "$y_{i+1}^{j}=y_{i}^{m}+\n",
    "\\frac{f(t_{i},y_{i}^{m})+f(t_{i+1},y_{i+1}^{i-1})}{2}h$\n",
    "\n",
    "This is analagous to the trapezoidal rule\n",
    "\n",
    "$\\int_{t_{i}}^{t_{i+1}}f(t)dt=\\frac{f(t_{i})+f(t_{i+1})}{2}h$\n",
    "\n",
    "therefore the error is\n",
    "\n",
    "$E_{t}=\\frac{-f''(\\xi)}{12}h^3$"
   ]
  },
  {
   "cell_type": "markdown",
   "metadata": {},
   "source": [
    "**Example with Heun's method**\n",
    "\n",
    "Problem Statement. Use Heun’s method with iteration to integrate \n",
    "\n",
    "$y' = 4e^{0.8t} − 0.5y$\n",
    "\n",
    "from t = 0 to 4 with a step size of 1. The initial condition at t = 0 is y = 2. Employ a stopping criterion of 0.00001% to terminate the corrector iterations."
   ]
  },
  {
   "cell_type": "code",
   "execution_count": 102,
   "metadata": {
    "collapsed": false
   },
   "outputs": [
    {
     "name": "stdout",
     "output_type": "stream",
     "text": [
      "dy =\n",
      "\n",
      "   3\n",
      "   0\n",
      "   0\n",
      "   0\n",
      "   0\n",
      "\n",
      "y =\n",
      "\n",
      "   2\n",
      "   5\n",
      "   0\n",
      "   0\n",
      "   0\n",
      "\n"
     ]
    }
   ],
   "source": [
    "yp=@(t,y) 4*exp(0.8*t)-0.5*y;\n",
    "t=linspace(0,4,5)';\n",
    "y=zeros(size(t));\n",
    "dy=zeros(size(t));\n",
    "dy_corr=zeros(size(t));\n",
    "y(1)=2;\n",
    "dy(1)=yp(t(1),y(1))\n",
    "y(2)=y(1)+dy(1)*(t(2)-t(1))"
   ]
  },
  {
   "cell_type": "code",
   "execution_count": 103,
   "metadata": {
    "collapsed": false
   },
   "outputs": [
    {
     "name": "stdout",
     "output_type": "stream",
     "text": [
      "dy_corr =\n",
      "\n",
      "   4.70108\n",
      "   0.00000\n",
      "   0.00000\n",
      "   0.00000\n",
      "   0.00000\n",
      "\n",
      "y =\n",
      "\n",
      "   2.00000\n",
      "   6.70108\n",
      "   0.00000\n",
      "   0.00000\n",
      "   0.00000\n",
      "\n"
     ]
    }
   ],
   "source": [
    "% improve estimate for y(2)\n",
    "dy_corr(1)=(dy(1)+yp(t(2),y(2)))/2\n",
    "y(2)=y(1)+dy_corr(1)*(t(2)-t(1))"
   ]
  },
  {
   "cell_type": "markdown",
   "metadata": {},
   "source": [
    "This process can be iterated until a desired tolerance is achieved"
   ]
  },
  {
   "cell_type": "code",
   "execution_count": 106,
   "metadata": {
    "collapsed": false
   },
   "outputs": [],
   "source": [
    "n=0;\n",
    "e=10;\n",
    "while (1)\n",
    "    n=n+1;\n",
    "    yold=y(2);\n",
    "    dy_corr(1)=(dy(1)+yp(t(2),y(2)))/2;\n",
    "    y(2)=y(1)+dy_corr(1)*(t(2)-t(1));\n",
    "    e=abs(y(2)-yold)/y(2)*100;\n",
    "    if e<= 0.00001 | n>100, break, end\n",
    "end"
   ]
  },
  {
   "cell_type": "code",
   "execution_count": 107,
   "metadata": {
    "collapsed": false
   },
   "outputs": [
    {
     "name": "stdout",
     "output_type": "stream",
     "text": [
      "y =\n",
      "\n",
      "   2.00000\n",
      "   6.36087\n",
      "   0.00000\n",
      "   0.00000\n",
      "   0.00000\n",
      "\n",
      "dy_corr =\n",
      "\n",
      "   4.36087\n",
      "   0.00000\n",
      "   0.00000\n",
      "   0.00000\n",
      "   0.00000\n",
      "\n",
      "n =  12\n",
      "e =    6.3760e-06\n"
     ]
    }
   ],
   "source": [
    "y\n",
    "dy_corr\n",
    "n\n",
    "e"
   ]
  },
  {
   "cell_type": "code",
   "execution_count": 127,
   "metadata": {
    "collapsed": false
   },
   "outputs": [
    {
     "name": "stdout",
     "output_type": "stream",
     "text": [
      "y_an =\n",
      "\n",
      "@(t) 4 / 1.3 * exp (0.8 * t) - 1.0769 * exp (-t / 2)\n",
      "\n",
      "dy_an =\n",
      "\n",
      "@(t) 0.8 * 4 / 1.3 * exp (0.8 * t) + 1.0769 / 2 * exp (-t / 2)\n",
      "\n"
     ]
    }
   ],
   "source": [
    "\n",
    "y_euler=zeros(size(t));\n",
    "for i=1:length(t)-1\n",
    "    y_euler(i+1)=y_euler(i)+dy(i)*(t(i+1)-t(i));\n",
    "end\n",
    "\n",
    "y_an =@(t) 4/1.3*exp(0.8*t)-1.0769*exp(-t/2)\n",
    "dy_an=@(t) 0.8*4/1.3*exp(0.8*t)+1.0769/2*exp(-t/2)\n"
   ]
  },
  {
   "cell_type": "code",
   "execution_count": 121,
   "metadata": {
    "collapsed": false
   },
   "outputs": [],
   "source": [
    "yp=@(t,y) 4*exp(0.8*t)-0.5*y;\n",
    "t=linspace(0,4,5)';\n",
    "y=zeros(size(t));\n",
    "dy=zeros(size(t));\n",
    "dy_corr=zeros(size(t));\n",
    "y(1)=2;\n",
    "for i=1:length(t)-1\n",
    "    dy(i)=yp(t(i),y(i));\n",
    "    dy_corr(i)=yp(t(i),y(i));\n",
    "    y(i+1)=y(i)+dy_corr(i)*(t(i+1)-t(i));\n",
    "    n=0;\n",
    "    e=10;\n",
    "    while (1)\n",
    "        n=n+1;\n",
    "        yold=y(i+1);\n",
    "        dy_corr(i)=(dy(i)+yp(t(i+1),y(i+1)))/2;\n",
    "        y(i+1)=y(i)+dy_corr(i)*(t(i+1)-t(i));\n",
    "        e=abs(y(i+1)-yold)/y(i+1)*100;\n",
    "        if e<= 0.00001 | n>100, break, end\n",
    "    end\n",
    "end"
   ]
  },
  {
   "cell_type": "code",
   "execution_count": 122,
   "metadata": {
    "collapsed": false
   },
   "outputs": [
    {
     "name": "stdout",
     "output_type": "stream",
     "text": [
      "y =\n",
      "\n",
      "    2.0000\n",
      "    6.3609\n",
      "   15.3022\n",
      "   34.7433\n",
      "   77.7351\n",
      "\n",
      "ans =\n",
      "\n",
      "    2.0000\n",
      "    6.1946\n",
      "   14.8439\n",
      "   33.6772\n",
      "   75.3390\n",
      "\n"
     ]
    }
   ],
   "source": [
    "y\n",
    "y_an(t)"
   ]
  },
  {
   "cell_type": "code",
   "execution_count": 128,
   "metadata": {
    "collapsed": false
   },
   "outputs": [
    {
     "data": {
      "image/svg+xml": [
       "<svg height=\"420px\" viewBox=\"0 0 560 420\" width=\"560px\" xmlns=\"http://www.w3.org/2000/svg\" xmlns:xlink=\"http://www.w3.org/1999/xlink\">\n",
       "\n",
       "<title>Gnuplot</title>\n",
       "<desc>Produced by GNUPLOT 5.0 patchlevel 3 </desc>\n",
       "\n",
       "<g id=\"gnuplot_canvas\">\n",
       "\n",
       "<rect fill=\"none\" height=\"420\" width=\"560\" x=\"0\" y=\"0\"/>\n",
       "<defs>\n",
       "\n",
       "\t<circle id=\"gpDot\" r=\"0.5\" stroke-width=\"0.5\"/>\n",
       "\t<path d=\"M-1,0 h2 M0,-1 v2\" id=\"gpPt0\" stroke=\"currentColor\" stroke-width=\"0.222\"/>\n",
       "\t<path d=\"M-1,-1 L1,1 M1,-1 L-1,1\" id=\"gpPt1\" stroke=\"currentColor\" stroke-width=\"0.222\"/>\n",
       "\t<path d=\"M-1,0 L1,0 M0,-1 L0,1 M-1,-1 L1,1 M-1,1 L1,-1\" id=\"gpPt2\" stroke=\"currentColor\" stroke-width=\"0.222\"/>\n",
       "\t<rect height=\"2\" id=\"gpPt3\" stroke=\"currentColor\" stroke-width=\"0.222\" width=\"2\" x=\"-1\" y=\"-1\"/>\n",
       "\t<rect fill=\"currentColor\" height=\"2\" id=\"gpPt4\" stroke=\"currentColor\" stroke-width=\"0.222\" width=\"2\" x=\"-1\" y=\"-1\"/>\n",
       "\t<circle cx=\"0\" cy=\"0\" id=\"gpPt5\" r=\"1\" stroke=\"currentColor\" stroke-width=\"0.222\"/>\n",
       "\t<use fill=\"currentColor\" id=\"gpPt6\" stroke=\"none\" xlink:href=\"#gpPt5\"/>\n",
       "\t<path d=\"M0,-1.33 L-1.33,0.67 L1.33,0.67 z\" id=\"gpPt7\" stroke=\"currentColor\" stroke-width=\"0.222\"/>\n",
       "\t<use fill=\"currentColor\" id=\"gpPt8\" stroke=\"none\" xlink:href=\"#gpPt7\"/>\n",
       "\t<use id=\"gpPt9\" stroke=\"currentColor\" transform=\"rotate(180)\" xlink:href=\"#gpPt7\"/>\n",
       "\t<use fill=\"currentColor\" id=\"gpPt10\" stroke=\"none\" xlink:href=\"#gpPt9\"/>\n",
       "\t<use id=\"gpPt11\" stroke=\"currentColor\" transform=\"rotate(45)\" xlink:href=\"#gpPt3\"/>\n",
       "\t<use fill=\"currentColor\" id=\"gpPt12\" stroke=\"none\" xlink:href=\"#gpPt11\"/>\n",
       "\t<path d=\"M0,1.330 L1.265,0.411 L0.782,-1.067 L-0.782,-1.076 L-1.265,0.411 z\" id=\"gpPt13\" stroke=\"currentColor\" stroke-width=\"0.222\"/>\n",
       "\t<use fill=\"currentColor\" id=\"gpPt14\" stroke=\"none\" xlink:href=\"#gpPt13\"/>\n",
       "\t<filter filterUnits=\"objectBoundingBox\" height=\"1\" id=\"textbox\" width=\"1\" x=\"0\" y=\"0\">\n",
       "\t  <feFlood flood-color=\"white\" flood-opacity=\"1\" result=\"bgnd\"/>\n",
       "\t  <feComposite in=\"SourceGraphic\" in2=\"bgnd\" operator=\"atop\"/>\n",
       "\t</filter>\n",
       "\t<filter filterUnits=\"objectBoundingBox\" height=\"1\" id=\"greybox\" width=\"1\" x=\"0\" y=\"0\">\n",
       "\t  <feFlood flood-color=\"lightgrey\" flood-opacity=\"1\" result=\"grey\"/>\n",
       "\t  <feComposite in=\"SourceGraphic\" in2=\"grey\" operator=\"atop\"/>\n",
       "\t</filter>\n",
       "</defs>\n",
       "<g color=\"white\" fill=\"none\" stroke=\"currentColor\" stroke-linecap=\"butt\" stroke-linejoin=\"miter\" stroke-width=\"1.00\">\n",
       "</g>\n",
       "<g color=\"black\" fill=\"none\" stroke=\"currentColor\" stroke-linecap=\"butt\" stroke-linejoin=\"miter\" stroke-width=\"1.00\">\n",
       "\t<g shape-rendering=\"crispEdges\" stroke=\"none\">\n",
       "\t\t<polygon fill=\"rgb(255, 255, 255)\" points=\"55.3,362.4 534.9,362.4 534.9,16.8 55.3,16.8 \"/>\n",
       "\t</g>\n",
       "</g>\n",
       "<g color=\"black\" fill=\"none\" stroke=\"rgb(255, 255, 255)\" stroke-linecap=\"butt\" stroke-linejoin=\"miter\" stroke-width=\"0.50\">\n",
       "</g>\n",
       "<g color=\"black\" fill=\"none\" stroke=\"currentColor\" stroke-linecap=\"butt\" stroke-linejoin=\"miter\" stroke-width=\"0.50\">\n",
       "\t<path d=\"M55.3,362.4 L67.8,362.4 M535.0,362.4 L522.5,362.4  \" stroke=\"black\"/>\t<g fill=\"rgb(0,0,0)\" font-family=\"{}\" font-size=\"16.00\" stroke=\"none\" text-anchor=\"end\" transform=\"translate(47.0,368.4)\">\n",
       "\t\t<text><tspan font-family=\"{}\">0</tspan></text>\n",
       "\t</g>\n",
       "</g>\n",
       "<g color=\"black\" fill=\"none\" stroke=\"currentColor\" stroke-linecap=\"butt\" stroke-linejoin=\"miter\" stroke-width=\"0.50\">\n",
       "\t<path d=\"M55.3,319.2 L67.8,319.2 M535.0,319.2 L522.5,319.2  \" stroke=\"black\"/>\t<g fill=\"rgb(0,0,0)\" font-family=\"{}\" font-size=\"16.00\" stroke=\"none\" text-anchor=\"end\" transform=\"translate(47.0,325.2)\">\n",
       "\t\t<text><tspan font-family=\"{}\">10</tspan></text>\n",
       "\t</g>\n",
       "</g>\n",
       "<g color=\"black\" fill=\"none\" stroke=\"currentColor\" stroke-linecap=\"butt\" stroke-linejoin=\"miter\" stroke-width=\"0.50\">\n",
       "\t<path d=\"M55.3,276.0 L67.8,276.0 M535.0,276.0 L522.5,276.0  \" stroke=\"black\"/>\t<g fill=\"rgb(0,0,0)\" font-family=\"{}\" font-size=\"16.00\" stroke=\"none\" text-anchor=\"end\" transform=\"translate(47.0,282.0)\">\n",
       "\t\t<text><tspan font-family=\"{}\">20</tspan></text>\n",
       "\t</g>\n",
       "</g>\n",
       "<g color=\"black\" fill=\"none\" stroke=\"currentColor\" stroke-linecap=\"butt\" stroke-linejoin=\"miter\" stroke-width=\"0.50\">\n",
       "\t<path d=\"M55.3,232.8 L67.8,232.8 M535.0,232.8 L522.5,232.8  \" stroke=\"black\"/>\t<g fill=\"rgb(0,0,0)\" font-family=\"{}\" font-size=\"16.00\" stroke=\"none\" text-anchor=\"end\" transform=\"translate(47.0,238.8)\">\n",
       "\t\t<text><tspan font-family=\"{}\">30</tspan></text>\n",
       "\t</g>\n",
       "</g>\n",
       "<g color=\"black\" fill=\"none\" stroke=\"currentColor\" stroke-linecap=\"butt\" stroke-linejoin=\"miter\" stroke-width=\"0.50\">\n",
       "\t<path d=\"M55.3,189.5 L67.8,189.5 M535.0,189.5 L522.5,189.5  \" stroke=\"black\"/>\t<g fill=\"rgb(0,0,0)\" font-family=\"{}\" font-size=\"16.00\" stroke=\"none\" text-anchor=\"end\" transform=\"translate(47.0,195.5)\">\n",
       "\t\t<text><tspan font-family=\"{}\">40</tspan></text>\n",
       "\t</g>\n",
       "</g>\n",
       "<g color=\"black\" fill=\"none\" stroke=\"currentColor\" stroke-linecap=\"butt\" stroke-linejoin=\"miter\" stroke-width=\"0.50\">\n",
       "\t<path d=\"M55.3,146.3 L67.8,146.3 M535.0,146.3 L522.5,146.3  \" stroke=\"black\"/>\t<g fill=\"rgb(0,0,0)\" font-family=\"{}\" font-size=\"16.00\" stroke=\"none\" text-anchor=\"end\" transform=\"translate(47.0,152.3)\">\n",
       "\t\t<text><tspan font-family=\"{}\">50</tspan></text>\n",
       "\t</g>\n",
       "</g>\n",
       "<g color=\"black\" fill=\"none\" stroke=\"currentColor\" stroke-linecap=\"butt\" stroke-linejoin=\"miter\" stroke-width=\"0.50\">\n",
       "\t<path d=\"M55.3,103.1 L67.8,103.1 M535.0,103.1 L522.5,103.1  \" stroke=\"black\"/>\t<g fill=\"rgb(0,0,0)\" font-family=\"{}\" font-size=\"16.00\" stroke=\"none\" text-anchor=\"end\" transform=\"translate(47.0,109.1)\">\n",
       "\t\t<text><tspan font-family=\"{}\">60</tspan></text>\n",
       "\t</g>\n",
       "</g>\n",
       "<g color=\"black\" fill=\"none\" stroke=\"currentColor\" stroke-linecap=\"butt\" stroke-linejoin=\"miter\" stroke-width=\"0.50\">\n",
       "\t<path d=\"M55.3,59.9 L67.8,59.9 M535.0,59.9 L522.5,59.9  \" stroke=\"black\"/>\t<g fill=\"rgb(0,0,0)\" font-family=\"{}\" font-size=\"16.00\" stroke=\"none\" text-anchor=\"end\" transform=\"translate(47.0,65.9)\">\n",
       "\t\t<text><tspan font-family=\"{}\">70</tspan></text>\n",
       "\t</g>\n",
       "</g>\n",
       "<g color=\"black\" fill=\"none\" stroke=\"currentColor\" stroke-linecap=\"butt\" stroke-linejoin=\"miter\" stroke-width=\"0.50\">\n",
       "\t<path d=\"M55.3,16.7 L67.8,16.7 M535.0,16.7 L522.5,16.7  \" stroke=\"black\"/>\t<g fill=\"rgb(0,0,0)\" font-family=\"{}\" font-size=\"16.00\" stroke=\"none\" text-anchor=\"end\" transform=\"translate(47.0,22.7)\">\n",
       "\t\t<text><tspan font-family=\"{}\">80</tspan></text>\n",
       "\t</g>\n",
       "</g>\n",
       "<g color=\"black\" fill=\"none\" stroke=\"currentColor\" stroke-linecap=\"butt\" stroke-linejoin=\"miter\" stroke-width=\"0.50\">\n",
       "\t<path d=\"M55.3,362.4 L55.3,349.9 M55.3,16.7 L55.3,29.2  \" stroke=\"black\"/>\t<g fill=\"rgb(0,0,0)\" font-family=\"{}\" font-size=\"16.00\" stroke=\"none\" text-anchor=\"middle\" transform=\"translate(55.3,386.4)\">\n",
       "\t\t<text><tspan font-family=\"{}\">0</tspan></text>\n",
       "\t</g>\n",
       "</g>\n",
       "<g color=\"black\" fill=\"none\" stroke=\"currentColor\" stroke-linecap=\"butt\" stroke-linejoin=\"miter\" stroke-width=\"0.50\">\n",
       "\t<path d=\"M115.3,362.4 L115.3,349.9 M115.3,16.7 L115.3,29.2  \" stroke=\"black\"/>\t<g fill=\"rgb(0,0,0)\" font-family=\"{}\" font-size=\"16.00\" stroke=\"none\" text-anchor=\"middle\" transform=\"translate(115.3,386.4)\">\n",
       "\t\t<text><tspan font-family=\"{}\">0.5</tspan></text>\n",
       "\t</g>\n",
       "</g>\n",
       "<g color=\"black\" fill=\"none\" stroke=\"currentColor\" stroke-linecap=\"butt\" stroke-linejoin=\"miter\" stroke-width=\"0.50\">\n",
       "\t<path d=\"M175.2,362.4 L175.2,349.9 M175.2,16.7 L175.2,29.2  \" stroke=\"black\"/>\t<g fill=\"rgb(0,0,0)\" font-family=\"{}\" font-size=\"16.00\" stroke=\"none\" text-anchor=\"middle\" transform=\"translate(175.2,386.4)\">\n",
       "\t\t<text><tspan font-family=\"{}\">1</tspan></text>\n",
       "\t</g>\n",
       "</g>\n",
       "<g color=\"black\" fill=\"none\" stroke=\"currentColor\" stroke-linecap=\"butt\" stroke-linejoin=\"miter\" stroke-width=\"0.50\">\n",
       "\t<path d=\"M235.2,362.4 L235.2,349.9 M235.2,16.7 L235.2,29.2  \" stroke=\"black\"/>\t<g fill=\"rgb(0,0,0)\" font-family=\"{}\" font-size=\"16.00\" stroke=\"none\" text-anchor=\"middle\" transform=\"translate(235.2,386.4)\">\n",
       "\t\t<text><tspan font-family=\"{}\">1.5</tspan></text>\n",
       "\t</g>\n",
       "</g>\n",
       "<g color=\"black\" fill=\"none\" stroke=\"currentColor\" stroke-linecap=\"butt\" stroke-linejoin=\"miter\" stroke-width=\"0.50\">\n",
       "\t<path d=\"M295.2,362.4 L295.2,349.9 M295.2,16.7 L295.2,29.2  \" stroke=\"black\"/>\t<g fill=\"rgb(0,0,0)\" font-family=\"{}\" font-size=\"16.00\" stroke=\"none\" text-anchor=\"middle\" transform=\"translate(295.2,386.4)\">\n",
       "\t\t<text><tspan font-family=\"{}\">2</tspan></text>\n",
       "\t</g>\n",
       "</g>\n",
       "<g color=\"black\" fill=\"none\" stroke=\"currentColor\" stroke-linecap=\"butt\" stroke-linejoin=\"miter\" stroke-width=\"0.50\">\n",
       "\t<path d=\"M355.1,362.4 L355.1,349.9 M355.1,16.7 L355.1,29.2  \" stroke=\"black\"/>\t<g fill=\"rgb(0,0,0)\" font-family=\"{}\" font-size=\"16.00\" stroke=\"none\" text-anchor=\"middle\" transform=\"translate(355.1,386.4)\">\n",
       "\t\t<text><tspan font-family=\"{}\">2.5</tspan></text>\n",
       "\t</g>\n",
       "</g>\n",
       "<g color=\"black\" fill=\"none\" stroke=\"currentColor\" stroke-linecap=\"butt\" stroke-linejoin=\"miter\" stroke-width=\"0.50\">\n",
       "\t<path d=\"M415.1,362.4 L415.1,349.9 M415.1,16.7 L415.1,29.2  \" stroke=\"black\"/>\t<g fill=\"rgb(0,0,0)\" font-family=\"{}\" font-size=\"16.00\" stroke=\"none\" text-anchor=\"middle\" transform=\"translate(415.1,386.4)\">\n",
       "\t\t<text><tspan font-family=\"{}\">3</tspan></text>\n",
       "\t</g>\n",
       "</g>\n",
       "<g color=\"black\" fill=\"none\" stroke=\"currentColor\" stroke-linecap=\"butt\" stroke-linejoin=\"miter\" stroke-width=\"0.50\">\n",
       "\t<path d=\"M475.0,362.4 L475.0,349.9 M475.0,16.7 L475.0,29.2  \" stroke=\"black\"/>\t<g fill=\"rgb(0,0,0)\" font-family=\"{}\" font-size=\"16.00\" stroke=\"none\" text-anchor=\"middle\" transform=\"translate(475.0,386.4)\">\n",
       "\t\t<text><tspan font-family=\"{}\">3.5</tspan></text>\n",
       "\t</g>\n",
       "</g>\n",
       "<g color=\"black\" fill=\"none\" stroke=\"currentColor\" stroke-linecap=\"butt\" stroke-linejoin=\"miter\" stroke-width=\"0.50\">\n",
       "\t<path d=\"M535.0,362.4 L535.0,349.9 M535.0,16.7 L535.0,29.2  \" stroke=\"black\"/>\t<g fill=\"rgb(0,0,0)\" font-family=\"{}\" font-size=\"16.00\" stroke=\"none\" text-anchor=\"middle\" transform=\"translate(535.0,386.4)\">\n",
       "\t\t<text><tspan font-family=\"{}\">4</tspan></text>\n",
       "\t</g>\n",
       "</g>\n",
       "<g color=\"black\" fill=\"none\" stroke=\"currentColor\" stroke-linecap=\"butt\" stroke-linejoin=\"miter\" stroke-width=\"0.50\">\n",
       "</g>\n",
       "<g color=\"black\" fill=\"none\" stroke=\"currentColor\" stroke-linecap=\"butt\" stroke-linejoin=\"miter\" stroke-width=\"0.50\">\n",
       "\t<path d=\"M55.3,16.7 L55.3,362.4 L535.0,362.4 L535.0,16.7 L55.3,16.7 Z  \" stroke=\"black\"/></g>\n",
       "<g color=\"black\" fill=\"none\" stroke=\"currentColor\" stroke-linecap=\"butt\" stroke-linejoin=\"miter\" stroke-width=\"0.50\">\n",
       "\t<g fill=\"rgb(0,0,0)\" font-family=\"{}\" font-size=\"16.00\" stroke=\"none\" text-anchor=\"middle\" transform=\"translate(19.1,189.6) rotate(-90)\">\n",
       "\t\t<text><tspan font-family=\"{}\">y</tspan></text>\n",
       "\t</g>\n",
       "</g>\n",
       "<g color=\"black\" fill=\"none\" stroke=\"currentColor\" stroke-linecap=\"butt\" stroke-linejoin=\"miter\" stroke-width=\"0.50\">\n",
       "\t<g fill=\"rgb(0,0,0)\" font-family=\"{}\" font-size=\"16.00\" stroke=\"none\" text-anchor=\"middle\" transform=\"translate(295.1,413.4)\">\n",
       "\t\t<text><tspan font-family=\"{}\">time</tspan></text>\n",
       "\t</g>\n",
       "</g>\n",
       "<g color=\"black\" fill=\"none\" stroke=\"currentColor\" stroke-linecap=\"butt\" stroke-linejoin=\"miter\" stroke-width=\"0.50\">\n",
       "</g>\n",
       "<g color=\"black\" fill=\"none\" stroke=\"currentColor\" stroke-linecap=\"butt\" stroke-linejoin=\"miter\" stroke-width=\"1.00\">\n",
       "</g>\n",
       "<g color=\"black\" fill=\"none\" stroke=\"currentColor\" stroke-linecap=\"butt\" stroke-linejoin=\"miter\" stroke-width=\"1.00\">\n",
       "\t<path d=\"M63.6,169.7 L63.6,25.7 L274.2,25.7 L274.2,169.7 L63.6,169.7 Z  \" stroke=\"black\"/></g>\n",
       "\t<g id=\"gnuplot_plot_1a\"><title>Heuns method</title>\n",
       "<g color=\"white\" fill=\"none\" stroke=\"black\" stroke-linecap=\"butt\" stroke-linejoin=\"miter\" stroke-width=\"3.00\">\n",
       "</g>\n",
       "<g color=\"black\" fill=\"none\" stroke=\"currentColor\" stroke-linecap=\"butt\" stroke-linejoin=\"miter\" stroke-width=\"3.00\">\n",
       "\t<g fill=\"rgb(0,0,0)\" font-family=\"{}\" font-size=\"16.00\" stroke=\"none\" text-anchor=\"end\" transform=\"translate(274.2,55.7)\">\n",
       "\t\t<text><tspan font-family=\"{}\">Heuns method</tspan></text>\n",
       "\t</g>\n",
       "</g>\n",
       "<g color=\"black\" fill=\"none\" stroke=\"currentColor\" stroke-linecap=\"butt\" stroke-linejoin=\"miter\" stroke-width=\"3.00\">\n",
       "\t<use color=\"rgb(  0,   0, 255)\" transform=\"translate(55.3,353.8) scale(12.00)\" xlink:href=\"#gpPt5\"/>\n",
       "\t<use color=\"rgb(  0,   0, 255)\" transform=\"translate(175.2,334.9) scale(12.00)\" xlink:href=\"#gpPt5\"/>\n",
       "\t<use color=\"rgb(  0,   0, 255)\" transform=\"translate(295.2,296.3) scale(12.00)\" xlink:href=\"#gpPt5\"/>\n",
       "\t<use color=\"rgb(  0,   0, 255)\" transform=\"translate(415.1,212.3) scale(12.00)\" xlink:href=\"#gpPt5\"/>\n",
       "\t<use color=\"rgb(  0,   0, 255)\" transform=\"translate(535.0,26.5) scale(12.00)\" xlink:href=\"#gpPt5\"/>\n",
       "\t<use color=\"rgb(  0,   0, 255)\" transform=\"translate(101.7,49.7) scale(12.00)\" xlink:href=\"#gpPt5\"/>\n",
       "</g>\n",
       "\t</g>\n",
       "\t<g id=\"gnuplot_plot_2a\"><title>Euler</title>\n",
       "<g color=\"black\" fill=\"none\" stroke=\"currentColor\" stroke-linecap=\"butt\" stroke-linejoin=\"miter\" stroke-width=\"3.00\">\n",
       "\t<g fill=\"rgb(0,0,0)\" font-family=\"{}\" font-size=\"16.00\" stroke=\"none\" text-anchor=\"end\" transform=\"translate(274.2,103.7)\">\n",
       "\t\t<text><tspan font-family=\"{}\">Euler</tspan></text>\n",
       "\t</g>\n",
       "</g>\n",
       "<g color=\"black\" fill=\"none\" stroke=\"currentColor\" stroke-linecap=\"butt\" stroke-linejoin=\"miter\" stroke-width=\"3.00\">\n",
       "\t<use color=\"rgb(  0, 128,   0)\" transform=\"translate(55.3,362.4) scale(12.00)\" xlink:href=\"#gpPt3\"/>\n",
       "\t<use color=\"rgb(  0, 128,   0)\" transform=\"translate(175.2,349.4) scale(12.00)\" xlink:href=\"#gpPt3\"/>\n",
       "\t<use color=\"rgb(  0, 128,   0)\" transform=\"translate(295.2,324.7) scale(12.00)\" xlink:href=\"#gpPt3\"/>\n",
       "\t<use color=\"rgb(  0, 128,   0)\" transform=\"translate(415.1,272.2) scale(12.00)\" xlink:href=\"#gpPt3\"/>\n",
       "\t<use color=\"rgb(  0, 128,   0)\" transform=\"translate(535.0,156.7) scale(12.00)\" xlink:href=\"#gpPt3\"/>\n",
       "\t<use color=\"rgb(  0, 128,   0)\" transform=\"translate(101.7,97.7) scale(12.00)\" xlink:href=\"#gpPt3\"/>\n",
       "</g>\n",
       "\t</g>\n",
       "\t<g id=\"gnuplot_plot_3a\"><title>analytical</title>\n",
       "<g color=\"black\" fill=\"none\" stroke=\"currentColor\" stroke-linecap=\"butt\" stroke-linejoin=\"miter\" stroke-width=\"3.00\">\n",
       "\t<g fill=\"rgb(0,0,0)\" font-family=\"{}\" font-size=\"16.00\" stroke=\"none\" text-anchor=\"end\" transform=\"translate(274.2,151.7)\">\n",
       "\t\t<text><tspan font-family=\"{}\">analytical</tspan></text>\n",
       "\t</g>\n",
       "</g>\n",
       "<g color=\"black\" fill=\"none\" stroke=\"currentColor\" stroke-linecap=\"butt\" stroke-linejoin=\"miter\" stroke-width=\"3.00\">\n",
       "\t<path d=\"M74.8,145.7 L128.6,145.7 M55.3,353.8 L60.1,353.2 L65.0,352.7 L69.8,352.1 L74.7,351.6 L79.5,351.0   L84.4,350.4 L89.2,349.8 L94.1,349.1 L98.9,348.5 L103.8,347.8 L108.6,347.2 L113.4,346.5 L118.3,345.7   L123.1,345.0 L128.0,344.2 L132.8,343.5 L137.7,342.7 L142.5,341.8 L147.4,341.0 L152.2,340.1 L157.1,339.2   L161.9,338.3 L166.7,337.4 L171.6,336.4 L176.4,335.4 L181.3,334.3 L186.1,333.3 L191.0,332.2 L195.8,331.0   L200.7,329.9 L205.5,328.7 L210.4,327.4 L215.2,326.2 L220.0,324.8 L224.9,323.5 L229.7,322.1 L234.6,320.6   L239.4,319.1 L244.3,317.6 L249.1,316.0 L254.0,314.4 L258.8,312.7 L263.7,311.0 L268.5,309.2 L273.3,307.3   L278.2,305.4 L283.0,303.5 L287.9,301.4 L292.7,299.3 L297.6,297.2 L302.4,294.9 L307.3,292.6 L312.1,290.3   L317.0,287.8 L321.8,285.3 L326.6,282.6 L331.5,279.9 L336.3,277.2 L341.2,274.3 L346.0,271.3 L350.9,268.3   L355.7,265.1 L360.6,261.8 L365.4,258.4 L370.3,255.0 L375.1,251.4 L379.9,247.7 L384.8,243.8 L389.6,239.9   L394.5,235.8 L399.3,231.6 L404.2,227.2 L409.0,222.7 L413.9,218.1 L418.7,213.3 L423.6,208.3 L428.4,203.2   L433.2,197.9 L438.1,192.5 L442.9,186.8 L447.8,181.0 L452.6,175.0 L457.5,168.8 L462.3,162.4 L467.2,155.8   L472.0,148.9 L476.9,141.9 L481.7,134.6 L486.5,127.1 L491.4,119.3 L496.2,111.3 L501.1,103.0 L505.9,94.4   L510.8,85.6 L515.6,76.5 L520.5,67.0 L525.3,57.3 L530.2,47.2 L535.0,36.8  \" stroke=\"rgb(255,   0,   0)\"/></g>\n",
       "\t</g>\n",
       "<g color=\"white\" fill=\"none\" stroke=\"rgb(255,   0,   0)\" stroke-linecap=\"butt\" stroke-linejoin=\"miter\" stroke-width=\"2.00\">\n",
       "</g>\n",
       "<g color=\"black\" fill=\"none\" stroke=\"currentColor\" stroke-linecap=\"butt\" stroke-linejoin=\"miter\" stroke-width=\"2.00\">\n",
       "</g>\n",
       "<g color=\"black\" fill=\"none\" stroke=\"black\" stroke-linecap=\"butt\" stroke-linejoin=\"miter\" stroke-width=\"0.50\">\n",
       "</g>\n",
       "<g color=\"black\" fill=\"none\" stroke=\"currentColor\" stroke-linecap=\"butt\" stroke-linejoin=\"miter\" stroke-width=\"0.50\">\n",
       "</g>\n",
       "</g>\n",
       "</svg>"
      ],
      "text/plain": [
       "<IPython.core.display.SVG object>"
      ]
     },
     "metadata": {},
     "output_type": "display_data"
    }
   ],
   "source": [
    "plot(t,y,'o',t,y_euler,'s',linspace(min(t),max(t)),y_an(linspace(min(t),max(t))))\n",
    "legend('Heuns method','Euler','analytical','Location','NorthWest')\n",
    "xlabel('time')\n",
    "ylabel('y')"
   ]
  },
  {
   "cell_type": "markdown",
   "metadata": {
    "collapsed": true
   },
   "source": [
    "# Phugoid Oscillation example\n",
    "\n",
    "[phugoid lessons in python]("
   ]
  }
 ],
 "metadata": {
  "kernelspec": {
   "display_name": "Octave",
   "language": "octave",
   "name": "octave"
  },
  "language_info": {
   "file_extension": ".m",
   "help_links": [
    {
     "text": "MetaKernel Magics",
     "url": "https://github.com/calysto/metakernel/blob/master/metakernel/magics/README.md"
    }
   ],
   "mimetype": "text/x-octave",
   "name": "octave",
   "version": "0.19.14"
  }
 },
 "nbformat": 4,
 "nbformat_minor": 2
}
